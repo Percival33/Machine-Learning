{
 "cells": [
  {
   "cell_type": "code",
   "execution_count": 8,
   "metadata": {
    "collapsed": true
   },
   "outputs": [],
   "source": [
    "from sklearn.cluster import KMeans\n",
    "from sklearn.preprocessing import LabelEncoder\n",
    "\n",
    "import pandas as pd"
   ]
  },
  {
   "cell_type": "code",
   "execution_count": 9,
   "outputs": [],
   "source": [
    "df = pd.read_csv(\"../data/processed/bank.csv\")\n",
    "lb = LabelEncoder()\n",
    "for i in df.columns:\n",
    "    df[i] = lb.fit_transform(df[i])"
   ],
   "metadata": {
    "collapsed": false
   }
  },
  {
   "cell_type": "code",
   "execution_count": 56,
   "outputs": [],
   "source": [
    "clusters = KMeans(n_clusters=20, random_state=0, n_init=\"auto\").fit_predict(df)\n",
    "# clusters = KMeans(n_clusters=20, random_state=0, n_init=\"auto\").fit_predict(df.drop('y', axis=1))"
   ],
   "metadata": {
    "collapsed": false
   }
  },
  {
   "cell_type": "code",
   "execution_count": 57,
   "outputs": [],
   "source": [
    "clustered_data = {}\n",
    "for i in range(20):\n",
    "    clustered_data[i] = df[clusters == i]"
   ],
   "metadata": {
    "collapsed": false
   }
  },
  {
   "cell_type": "code",
   "execution_count": 62,
   "outputs": [
    {
     "name": "stdout",
     "output_type": "stream",
     "text": [
      "Cluster: 0\n",
      "0: 0.5520833333333334\n",
      "1: 0.4479166666666667\n",
      "\n",
      "Cluster: 1\n",
      "0: 0.9941520467836257\n",
      "1: 0.005847953216374269\n",
      "\n",
      "Cluster: 2\n",
      "0: 0.9423076923076923\n",
      "1: 0.057692307692307696\n",
      "\n",
      "Cluster: 3\n",
      "0: 0.8703703703703703\n",
      "1: 0.12962962962962962\n",
      "\n",
      "Cluster: 4\n",
      "0: 0.93359375\n",
      "1: 0.06640625\n",
      "\n",
      "Cluster: 5\n",
      "0: 0.9746835443037974\n",
      "1: 0.02531645569620253\n",
      "\n",
      "Cluster: 6\n",
      "0: 0.5546875\n",
      "1: 0.4453125\n",
      "\n",
      "Cluster: 7\n",
      "0: 0.9688311688311688\n",
      "1: 0.03116883116883117\n",
      "\n",
      "Cluster: 8\n",
      "0: 0.9166666666666666\n",
      "1: 0.08333333333333333\n",
      "\n",
      "Cluster: 9\n",
      "0: 0.5238095238095238\n",
      "1: 0.47619047619047616\n",
      "\n",
      "Cluster: 10\n",
      "0: 0.9801587301587301\n",
      "1: 0.01984126984126984\n",
      "\n",
      "Cluster: 11\n",
      "0: 0.9352941176470588\n",
      "1: 0.06470588235294118\n",
      "\n",
      "Cluster: 12\n",
      "0: 0.6882352941176471\n",
      "1: 0.31176470588235294\n",
      "\n",
      "Cluster: 13\n",
      "0: 0.7522123893805309\n",
      "1: 0.24778761061946902\n",
      "\n",
      "Cluster: 14\n",
      "0: 0.9622641509433962\n",
      "1: 0.03773584905660377\n",
      "\n",
      "Cluster: 15\n",
      "0: 0.7577639751552795\n",
      "1: 0.2422360248447205\n",
      "\n",
      "Cluster: 16\n",
      "0: 0.9528795811518325\n",
      "1: 0.04712041884816754\n",
      "\n",
      "Cluster: 17\n",
      "0: 0.7965116279069767\n",
      "1: 0.20348837209302326\n",
      "\n",
      "Cluster: 18\n",
      "0: 0.7518248175182481\n",
      "1: 0.24817518248175183\n",
      "\n",
      "Cluster: 19\n",
      "0: 0.7762237762237763\n",
      "1: 0.22377622377622378\n",
      "\n"
     ]
    },
    {
     "data": {
      "text/plain": "(1, 0.005847953216374269)"
     },
     "execution_count": 62,
     "metadata": {},
     "output_type": "execute_result"
    }
   ],
   "source": [
    "best_id = -1\n",
    "max_val = -1\n",
    "\n",
    "min_best_id = -1\n",
    "min_val = 1\n",
    "\n",
    "\n",
    "for i in range(20):\n",
    "    rows = clustered_data[i]['y'].value_counts().sum()\n",
    "    zeros = clustered_data[i]['y'].value_counts()[0]\n",
    "    ones = clustered_data[i]['y'].value_counts()[1]\n",
    "    if ones/rows > max_val:\n",
    "        max_val = ones/rows\n",
    "        best_id = i\n",
    "\n",
    "    if ones/rows < min_val:\n",
    "        min_val = ones/rows\n",
    "        min_best_id = i\n",
    "    print(f\"Cluster: {i}\\n0: {zeros/rows}\\n1: {ones/rows}\\n\")\n",
    "\n",
    "best_id, max_val\n",
    "min_best_id, min_val"
   ],
   "metadata": {
    "collapsed": false
   }
  },
  {
   "cell_type": "code",
   "execution_count": 67,
   "outputs": [],
   "source": [
    "df_tmp = pd.DataFrame(clustered_data[1])"
   ],
   "metadata": {
    "collapsed": false
   }
  },
  {
   "cell_type": "code",
   "execution_count": 69,
   "outputs": [],
   "source": [
    "df_tmp.to_csv(\"../data/processed/bank-test.csv\", index=False)"
   ],
   "metadata": {
    "collapsed": false
   }
  }
 ],
 "metadata": {
  "kernelspec": {
   "display_name": "Python 3",
   "language": "python",
   "name": "python3"
  },
  "language_info": {
   "codemirror_mode": {
    "name": "ipython",
    "version": 2
   },
   "file_extension": ".py",
   "mimetype": "text/x-python",
   "name": "python",
   "nbconvert_exporter": "python",
   "pygments_lexer": "ipython2",
   "version": "2.7.6"
  }
 },
 "nbformat": 4,
 "nbformat_minor": 0
}
