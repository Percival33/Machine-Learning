{
 "cells": [
  {
   "cell_type": "code",
   "execution_count": 8,
   "metadata": {
    "collapsed": true
   },
   "outputs": [],
   "source": [
    "from sklearn.cluster import KMeans\n",
    "from sklearn.preprocessing import LabelEncoder\n",
    "\n",
    "import pandas as pd"
   ]
  },
  {
   "cell_type": "code",
   "execution_count": 78,
   "outputs": [],
   "source": [
    "df = pd.read_csv(\"../data/processed/adult.csv\")\n",
    "lb = LabelEncoder()\n",
    "for i in df.columns:\n",
    "    df[i] = lb.fit_transform(df[i])"
   ],
   "metadata": {
    "collapsed": false
   }
  },
  {
   "cell_type": "code",
   "execution_count": 93,
   "outputs": [],
   "source": [
    "# clusters = KMeans(n_clusters=10, random_state=0, n_init=\"auto\").fit_predict(df)\n",
    "CLUSTERS = 20\n",
    "clusters = KMeans(n_clusters=CLUSTERS, random_state=0, n_init=\"auto\").fit_predict(df.drop('y', axis=1))"
   ],
   "metadata": {
    "collapsed": false
   }
  },
  {
   "cell_type": "code",
   "execution_count": 94,
   "outputs": [],
   "source": [
    "clustered_data = {}\n",
    "for i in range(CLUSTERS):\n",
    "    clustered_data[i] = df[clusters == i]"
   ],
   "metadata": {
    "collapsed": false
   }
  },
  {
   "cell_type": "code",
   "execution_count": 95,
   "outputs": [
    {
     "name": "stdout",
     "output_type": "stream",
     "text": [
      "Cluster: 0\n",
      "0: 0.776414451261077\n",
      "1: 0.22358554873892297\n",
      "\n",
      "Cluster: 1\n",
      "0: 0.7351672060409924\n",
      "1: 0.26483279395900755\n",
      "\n",
      "Cluster: 2\n",
      "0: 0.7465715852989577\n",
      "1: 0.2534284147010422\n",
      "\n",
      "Cluster: 3\n",
      "0: 0.7408610885458976\n",
      "1: 0.25913891145410234\n",
      "\n",
      "Cluster: 4\n",
      "0: 0.7476683937823834\n",
      "1: 0.2523316062176166\n",
      "\n",
      "Cluster: 5\n",
      "0: 0.7347294938917975\n",
      "1: 0.26527050610820246\n",
      "\n",
      "Cluster: 6\n",
      "0: 0.7964869775893398\n",
      "1: 0.20351302241066022\n",
      "\n",
      "Cluster: 7\n",
      "0: 0.7802690582959642\n",
      "1: 0.21973094170403587\n",
      "\n",
      "Cluster: 8\n",
      "0: 0.7476635514018691\n",
      "1: 0.2523364485981308\n",
      "\n",
      "Cluster: 9\n",
      "0: 0.7724986025712689\n",
      "1: 0.22750139742873113\n",
      "\n",
      "Cluster: 10\n",
      "0: 0.7281299109481404\n",
      "1: 0.2718700890518596\n",
      "\n",
      "Cluster: 11\n",
      "0: 0.7376796714579056\n",
      "1: 0.26232032854209447\n",
      "\n",
      "Cluster: 12\n",
      "0: 0.7417624521072796\n",
      "1: 0.2582375478927203\n",
      "\n",
      "Cluster: 13\n",
      "0: 0.7803680981595092\n",
      "1: 0.2196319018404908\n",
      "\n",
      "Cluster: 14\n",
      "0: 0.7965753424657535\n",
      "1: 0.20342465753424657\n",
      "\n",
      "Cluster: 15\n",
      "0: 0.7618233618233619\n",
      "1: 0.23817663817663817\n",
      "\n",
      "Cluster: 16\n",
      "0: 0.7494517543859649\n",
      "1: 0.2505482456140351\n",
      "\n",
      "Cluster: 17\n",
      "0: 0.7870579382994732\n",
      "1: 0.2129420617005267\n",
      "\n",
      "Cluster: 18\n",
      "0: 0.7657657657657657\n",
      "1: 0.23423423423423423\n",
      "\n",
      "Cluster: 19\n",
      "0: 0.7880523731587561\n",
      "1: 0.21194762684124385\n",
      "\n"
     ]
    },
    {
     "data": {
      "text/plain": "(14, 0.20342465753424657)"
     },
     "execution_count": 95,
     "metadata": {},
     "output_type": "execute_result"
    }
   ],
   "source": [
    "best_id = -1\n",
    "max_val = -1\n",
    "\n",
    "min_best_id = -1\n",
    "min_val = 1\n",
    "\n",
    "\n",
    "for i in range(CLUSTERS):\n",
    "    rows = clustered_data[i]['y'].value_counts().sum()\n",
    "    zeros = clustered_data[i]['y'].value_counts()[0]\n",
    "    ones = clustered_data[i]['y'].value_counts()[1]\n",
    "    if ones/rows > max_val:\n",
    "        max_val = ones/rows\n",
    "        best_id = i\n",
    "\n",
    "    if ones/rows < min_val:\n",
    "        min_val = ones/rows\n",
    "        min_best_id = i\n",
    "    print(f\"Cluster: {i}\\n0: {zeros/rows}\\n1: {ones/rows}\\n\")\n",
    "\n",
    "best_id, max_val\n",
    "min_best_id, min_val"
   ],
   "metadata": {
    "collapsed": false
   }
  },
  {
   "cell_type": "code",
   "execution_count": 97,
   "outputs": [],
   "source": [
    "pd.DataFrame(clustered_data[best_id]).to_csv(\"../data/processed/adult-test-best.csv\", index=False)\n",
    "pd.DataFrame(clustered_data[min_best_id]).to_csv(\"../data/processed/adult-test-worst.csv\", index=False)"
   ],
   "metadata": {
    "collapsed": false
   }
  }
 ],
 "metadata": {
  "kernelspec": {
   "display_name": "Python 3",
   "language": "python",
   "name": "python3"
  },
  "language_info": {
   "codemirror_mode": {
    "name": "ipython",
    "version": 2
   },
   "file_extension": ".py",
   "mimetype": "text/x-python",
   "name": "python",
   "nbconvert_exporter": "python",
   "pygments_lexer": "ipython2",
   "version": "2.7.6"
  }
 },
 "nbformat": 4,
 "nbformat_minor": 0
}
