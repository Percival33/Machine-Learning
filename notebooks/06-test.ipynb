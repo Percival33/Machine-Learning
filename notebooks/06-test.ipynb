{
 "cells": [
  {
   "cell_type": "code",
   "execution_count": 1,
   "outputs": [],
   "source": [
    "import Orange\n",
    "from src.data.create_data import create_data\n",
    "import datetime"
   ],
   "metadata": {
    "collapsed": false
   }
  },
  {
   "cell_type": "code",
   "execution_count": 16,
   "outputs": [
    {
     "name": "stdout",
     "output_type": "stream",
     "text": [
      "IF education==9th THEN y=<=50K \n",
      "IF fnlwgt>=215646.0 THEN y=<=50K \n",
      "IF workclass==Private THEN y=>50K \n",
      "IF age>=52.0 THEN y=>50K \n",
      "IF age<=50.0 THEN y=<=50K \n",
      "IF TRUE THEN y=<=50K \n",
      "train imte:\t[0.03729892]\n",
      "test_time:\t[0.00083303]\n",
      "accuracy:\t[1.]\n",
      "recall:\t[0.]\n",
      "F1:\t[0.]\n"
     ]
    },
    {
     "name": "stderr",
     "output_type": "stream",
     "text": [
      "/Users/marcinjarczewski/Documents/studia/sem5/machine_learning/src/data/create_data.py:10: OrangeDeprecationWarning: Direct calls to Table's constructor are deprecated and will be removed. Replace this call with Table.from_table\n",
      "  return Orange.data.Table(new_domain, data)\n",
      "/Users/marcinjarczewski/Documents/studia/sem5/machine_learning/venv/lib/python3.10/site-packages/sklearn/metrics/_classification.py:1471: UndefinedMetricWarning: Recall is ill-defined and being set to 0.0 due to no true samples. Use `zero_division` parameter to control this behavior.\n",
      "  _warn_prf(average, modifier, msg_start, len(result))\n",
      "/Users/marcinjarczewski/Documents/studia/sem5/machine_learning/venv/lib/python3.10/site-packages/sklearn/metrics/_classification.py:1760: UndefinedMetricWarning: F-score is ill-defined and being set to 0.0 due to no true nor predicted samples. Use `zero_division` parameter to control this behavior.\n",
      "  _warn_prf(average, \"true nor predicted\", \"F-score is\", len(true_sum))\n",
      "/Users/marcinjarczewski/Documents/studia/sem5/machine_learning/venv/lib/python3.10/site-packages/sklearn/metrics/_classification.py:1471: UndefinedMetricWarning: Recall is ill-defined and being set to 0.0 due to no true samples. Use `zero_division` parameter to control this behavior.\n",
      "  _warn_prf(average, modifier, msg_start, len(result))\n",
      "/Users/marcinjarczewski/Documents/studia/sem5/machine_learning/venv/lib/python3.10/site-packages/sklearn/metrics/_classification.py:1760: UndefinedMetricWarning: F-score is ill-defined and being set to 0.0 due to no true nor predicted samples. Use `zero_division` parameter to control this behavior.\n",
      "  _warn_prf(average, \"true nor predicted\", \"F-score is\", len(true_sum))\n"
     ]
    }
   ],
   "source": [
    "def analyze_results(results: Orange.evaluation.Results):\n",
    "    return f\"train imte:\\t{results.train_time}\\ntest_time:\\t{results.test_time}\\naccuracy:\\t{Orange.evaluation.CA(results)}\\nrecall:\\t{Orange.evaluation.Recall(results)}\\nF1:\\t{Orange.evaluation.F1(results)}\"\n",
    "\n",
    "\n",
    "def run(file_path, test_split=0.8):\n",
    "    data = Orange.data.Table(file_path)\n",
    "    new_data = create_data(data)\n",
    "    train_data, test_data = Orange.evaluation.testing.sample(new_data, n=test_split)\n",
    "    learners = [Orange.classification.CN2Learner()]\n",
    "    results = Orange.evaluation.testing.TestOnTestData(train_data, test_data, learners, store_models=True)\n",
    "    with open(f'../.logs/{str(datetime.datetime.now()).replace(\" \", \"_\")}.txt', 'w') as f:\n",
    "        for r in results.models[0][0].rule_list:\n",
    "            print(str(r))\n",
    "            f.write(str(r)+\"\\n\")\n",
    "            # f.write(r.curr_class_dist.tolist())\n",
    "        f.write(analyze_results(results))\n",
    "\n",
    "    print(analyze_results(results))\n",
    "\n",
    "run(\"../data/processed/test.csv\")"
   ],
   "metadata": {
    "collapsed": false
   }
  },
  {
   "cell_type": "code",
   "execution_count": null,
   "outputs": [],
   "source": [],
   "metadata": {
    "collapsed": false
   }
  }
 ],
 "metadata": {
  "kernelspec": {
   "display_name": "Python 3",
   "language": "python",
   "name": "python3"
  },
  "language_info": {
   "codemirror_mode": {
    "name": "ipython",
    "version": 2
   },
   "file_extension": ".py",
   "mimetype": "text/x-python",
   "name": "python",
   "nbconvert_exporter": "python",
   "pygments_lexer": "ipython2",
   "version": "2.7.6"
  }
 },
 "nbformat": 4,
 "nbformat_minor": 0
}
