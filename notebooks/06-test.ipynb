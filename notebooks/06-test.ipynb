{
 "cells": [
  {
   "cell_type": "code",
   "execution_count": 18,
   "outputs": [],
   "source": [
    "import Orange\n",
    "from src.data.create_data import create_data\n",
    "import datetime"
   ],
   "metadata": {
    "collapsed": false
   }
  },
  {
   "cell_type": "code",
   "execution_count": 16,
   "outputs": [
    {
     "name": "stdout",
     "output_type": "stream",
     "text": [
      "IF education==9th THEN y=<=50K \n",
      "IF fnlwgt>=215646.0 THEN y=<=50K \n",
      "IF workclass==Private THEN y=>50K \n",
      "IF age>=52.0 THEN y=>50K \n",
      "IF age<=50.0 THEN y=<=50K \n",
      "IF TRUE THEN y=<=50K \n",
      "train imte:\t[0.03729892]\n",
      "test_time:\t[0.00083303]\n",
      "accuracy:\t[1.]\n",
      "recall:\t[0.]\n",
      "F1:\t[0.]\n"
     ]
    },
    {
     "name": "stderr",
     "output_type": "stream",
     "text": [
      "/Users/marcinjarczewski/Documents/studia/sem5/machine_learning/src/data/create_data.py:10: OrangeDeprecationWarning: Direct calls to Table's constructor are deprecated and will be removed. Replace this call with Table.from_table\n",
      "  return Orange.data.Table(new_domain, data)\n",
      "/Users/marcinjarczewski/Documents/studia/sem5/machine_learning/venv/lib/python3.10/site-packages/sklearn/metrics/_classification.py:1471: UndefinedMetricWarning: Recall is ill-defined and being set to 0.0 due to no true samples. Use `zero_division` parameter to control this behavior.\n",
      "  _warn_prf(average, modifier, msg_start, len(result))\n",
      "/Users/marcinjarczewski/Documents/studia/sem5/machine_learning/venv/lib/python3.10/site-packages/sklearn/metrics/_classification.py:1760: UndefinedMetricWarning: F-score is ill-defined and being set to 0.0 due to no true nor predicted samples. Use `zero_division` parameter to control this behavior.\n",
      "  _warn_prf(average, \"true nor predicted\", \"F-score is\", len(true_sum))\n",
      "/Users/marcinjarczewski/Documents/studia/sem5/machine_learning/venv/lib/python3.10/site-packages/sklearn/metrics/_classification.py:1471: UndefinedMetricWarning: Recall is ill-defined and being set to 0.0 due to no true samples. Use `zero_division` parameter to control this behavior.\n",
      "  _warn_prf(average, modifier, msg_start, len(result))\n",
      "/Users/marcinjarczewski/Documents/studia/sem5/machine_learning/venv/lib/python3.10/site-packages/sklearn/metrics/_classification.py:1760: UndefinedMetricWarning: F-score is ill-defined and being set to 0.0 due to no true nor predicted samples. Use `zero_division` parameter to control this behavior.\n",
      "  _warn_prf(average, \"true nor predicted\", \"F-score is\", len(true_sum))\n"
     ]
    }
   ],
   "source": [
    "def analyze_results(results: Orange.evaluation.Results):\n",
    "    return f\"train imte:\\t{results.train_time}\\ntest_time:\\t{results.test_time}\\naccuracy:\\t{Orange.evaluation.CA(results)}\\nrecall:\\t{Orange.evaluation.Recall(results)}\\nF1:\\t{Orange.evaluation.F1(results)}\"\n",
    "\n",
    "\n",
    "def run(file_path, test_split=0.8):\n",
    "    data = Orange.data.Table(file_path)\n",
    "    new_data = create_data(data)\n",
    "    train_data, test_data = Orange.evaluation.testing.sample(new_data, n=test_split)\n",
    "    learners = [Orange.classification.CN2Learner()]\n",
    "    results = Orange.evaluation.testing.TestOnTestData(train_data, test_data, learners, store_models=True)\n",
    "    with open(f'../.logs/{str(datetime.datetime.now()).replace(\" \", \"_\")}.txt', 'w') as f:\n",
    "        for r in results.models[0][0].rule_list:\n",
    "            print(str(r))\n",
    "            f.write(str(r)+\"\\n\")\n",
    "            # f.write(r.curr_class_dist.tolist())\n",
    "        f.write(analyze_results(results))\n",
    "\n",
    "    print(analyze_results(results))\n",
    "\n",
    "run(\"../data/processed/test.csv\")"
   ],
   "metadata": {
    "collapsed": false
   }
  },
  {
   "cell_type": "code",
   "execution_count": 36,
   "outputs": [
    {
     "name": "stdout",
     "output_type": "stream",
     "text": [
      "IF workclass==State-gov THEN y=<=50K  [1, 0]\n",
      "IF fnlwgt>=215646.0 THEN y=<=50K  [4, 0]\n",
      "IF education==9th THEN y=<=50K  [1, 0]\n",
      "IF workclass==Private THEN y=>50K  [0, 1]\n",
      "IF age>=52.0 THEN y=>50K  [0, 1]\n",
      "IF age<=50.0 THEN y=<=50K  [1, 0]\n",
      "IF TRUE THEN y=<=50K  [7, 2]\n"
     ]
    },
    {
     "name": "stderr",
     "output_type": "stream",
     "text": [
      "/Users/marcinjarczewski/Documents/studia/sem5/machine_learning/src/data/create_data.py:10: OrangeDeprecationWarning: Direct calls to Table's constructor are deprecated and will be removed. Replace this call with Table.from_table\n",
      "  return Orange.data.Table(new_domain, data)\n"
     ]
    }
   ],
   "source": [
    "test_data = Orange.data.Table(\"../data/processed/test.csv\")\n",
    "test_data = create_data(test_data)\n",
    "\n",
    "learner = Orange.classification.CN2Learner(base_rules=None)\n",
    "classifier = learner(test_data)\n",
    "for r in classifier.rule_list:\n",
    "    print(r, r.curr_class_dist.tolist())"
   ],
   "metadata": {
    "collapsed": false
   }
  },
  {
   "cell_type": "code",
   "execution_count": 37,
   "outputs": [
    {
     "name": "stdout",
     "output_type": "stream",
     "text": [
      "IF workclass==State-gov THEN y=<=50K.  [1, 0]\n",
      "IF education==Bachelors THEN y=<=50K.  [1, 0]\n",
      "IF fnlwgt>=215646.0 AND education!=HS-grad THEN y=>50K.  [0, 1]\n",
      "IF age<=50.0 AND fnlwgt>=279724.0 THEN y=>50K.  [0, 1]\n",
      "IF fnlwgt>=215646.0 THEN y=<=50K.  [1, 0]\n",
      "IF age>=52.0 THEN y=>50K.  [0, 1]\n",
      "IF age<=37.0 THEN y=<=50K.  [2, 0]\n",
      "IF age<=43.0 THEN y=<=50K.  [1, 0]\n",
      "IF TRUE THEN y=<=50K.  [6, 3]\n"
     ]
    },
    {
     "name": "stderr",
     "output_type": "stream",
     "text": [
      "/Users/marcinjarczewski/Documents/studia/sem5/machine_learning/src/data/create_data.py:10: OrangeDeprecationWarning: Direct calls to Table's constructor are deprecated and will be removed. Replace this call with Table.from_table\n",
      "  return Orange.data.Table(new_domain, data)\n"
     ]
    }
   ],
   "source": [
    "data2 = Orange.data.Table(\"../data/processed/test2.csv\")\n",
    "learner2 = Orange.classification.CN2Learner(base_rules=classifier.rule_list)\n",
    "classifier2 = learner2(create_data(data2))\n",
    "for r in classifier2.rule_list:\n",
    "    print(r, r.curr_class_dist.tolist())"
   ],
   "metadata": {
    "collapsed": false
   }
  },
  {
   "cell_type": "code",
   "execution_count": 1,
   "outputs": [
    {
     "name": "stdout",
     "output_type": "stream",
     "text": [
      "IF workclass==State-gov THEN y=<=50K \n",
      "IF fnlwgt>=215646.0 THEN y=<=50K \n",
      "IF education==9th THEN y=<=50K \n",
      "IF workclass==Private THEN y=>50K \n",
      "IF age>=52.0 THEN y=>50K \n",
      "IF age<=50.0 THEN y=<=50K \n",
      "IF TRUE THEN y=<=50K \n",
      "train imte:\t[0.0345962]\n",
      "test_time:\t[0.00099492]\n",
      "accuracy:\t[1.]\n",
      "recall:\t[1.]\n",
      "F1:\t[1.]\n"
     ]
    },
    {
     "name": "stderr",
     "output_type": "stream",
     "text": [
      "/Users/marcinjarczewski/Documents/studia/sem5/machine_learning/src/data/create_data.py:10: OrangeDeprecationWarning: Direct calls to Table's constructor are deprecated and will be removed. Replace this call with Table.from_table\n",
      "  return Orange.data.Table(new_domain, data)\n"
     ]
    }
   ],
   "source": [
    "from src.models.cn2_runner import CN2_Runner\n",
    "\n",
    "cn2 = CN2_Runner()\n",
    "cn2.fit_predict(\"../data/processed/test.csv\", \"../data/processed/test.csv\")\n",
    "rules1 = cn2.get_rules()\n",
    "for r in rules1:\n",
    "    print(r)\n",
    "\n",
    "print(cn2.get_stats())"
   ],
   "metadata": {
    "collapsed": false
   }
  },
  {
   "cell_type": "code",
   "execution_count": 2,
   "outputs": [
    {
     "name": "stdout",
     "output_type": "stream",
     "text": [
      "IF workclass==State-gov THEN y=<=50K. \n",
      "IF education==Bachelors THEN y=<=50K. \n",
      "IF fnlwgt>=215646.0 AND education!=HS-grad THEN y=>50K. \n",
      "IF age<=50.0 AND fnlwgt>=279724.0 THEN y=>50K. \n",
      "IF fnlwgt>=215646.0 THEN y=<=50K. \n",
      "IF age>=52.0 THEN y=>50K. \n",
      "IF age<=37.0 THEN y=<=50K. \n",
      "IF age<=43.0 THEN y=<=50K. \n",
      "IF TRUE THEN y=<=50K. \n"
     ]
    },
    {
     "name": "stderr",
     "output_type": "stream",
     "text": [
      "/Users/marcinjarczewski/Documents/studia/sem5/machine_learning/src/data/create_data.py:10: OrangeDeprecationWarning: Direct calls to Table's constructor are deprecated and will be removed. Replace this call with Table.from_table\n",
      "  return Orange.data.Table(new_domain, data)\n",
      "/Users/marcinjarczewski/Documents/studia/sem5/machine_learning/venv/lib/python3.10/site-packages/Orange/data/variable.py:764: RuntimeWarning: invalid value encountered in cast\n",
      "  value = value.astype(int)\n"
     ]
    }
   ],
   "source": [
    "cn2.fit_predict(\"../data/processed/test2.csv\", \"../data/processed/test2.csv\", rules1)\n",
    "rules2 = cn2.get_rules()\n",
    "for r in rules2:\n",
    "    print(r)"
   ],
   "metadata": {
    "collapsed": false
   }
  }
 ],
 "metadata": {
  "kernelspec": {
   "display_name": "Python 3",
   "language": "python",
   "name": "python3"
  },
  "language_info": {
   "codemirror_mode": {
    "name": "ipython",
    "version": 2
   },
   "file_extension": ".py",
   "mimetype": "text/x-python",
   "name": "python",
   "nbconvert_exporter": "python",
   "pygments_lexer": "ipython2",
   "version": "2.7.6"
  }
 },
 "nbformat": 4,
 "nbformat_minor": 0
}
