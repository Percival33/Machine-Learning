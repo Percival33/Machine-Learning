{
 "cells": [
  {
   "cell_type": "code",
   "execution_count": 10,
   "id": "initial_id",
   "metadata": {
    "collapsed": true,
    "ExecuteTime": {
     "end_time": "2024-01-26T17:28:04.754042233Z",
     "start_time": "2024-01-26T17:27:44.016384189Z"
    }
   },
   "outputs": [
    {
     "name": "stderr",
     "output_type": "stream",
     "text": [
      "100%|██████████| 100/100 [00:20<00:00,  4.85it/s]"
     ]
    },
    {
     "name": "stdout",
     "output_type": "stream",
     "text": [
      "Accuracy: 0.65\n",
      "Accuracy:               precision    recall  f1-score   support\n",
      "\n",
      "       False       0.25      0.20      0.22         5\n",
      "        True       0.75      0.80      0.77        15\n",
      "\n",
      "    accuracy                           0.65        20\n",
      "   macro avg       0.50      0.50      0.50        20\n",
      "weighted avg       0.62      0.65      0.64        20\n"
     ]
    },
    {
     "name": "stderr",
     "output_type": "stream",
     "text": [
      "\n"
     ]
    }
   ],
   "source": [
    "import pandas as pd\n",
    "from sklearn.metrics import accuracy_score, classification_report\n",
    "from sklearn.model_selection import train_test_split\n",
    "from src.models.aq_algorithm import AQClassifier\n",
    "df = pd.read_csv(\"../data/processed/adult.csv\").head(100)\n",
    "df['y'] = df['y'].map(lambda x: x == ' <=50K')\n",
    "X_train, X_test, y_train, y_test = train_test_split(df.drop(columns='y'), df['y'], test_size=0.2, random_state=21)\n",
    "clf = AQClassifier(**{\n",
    "    'star_it': 10,\n",
    "    'it': 100,\n",
    "    'max_cpx': 10,\n",
    "    'max_rules': 10,\n",
    "})\n",
    "clf.fit(X_train, y_train)\n",
    "clf.save(\"../models/aq_adult_test\")\n",
    "y_pred = clf.predict(X_test)\n",
    "print(f\"Accuracy: {accuracy_score(y_test, y_pred)}\")\n",
    "print(f\"Accuracy: {classification_report(y_test, y_pred)}\")"
   ]
  }
 ],
 "metadata": {
  "kernelspec": {
   "display_name": "Python 3",
   "language": "python",
   "name": "python3"
  },
  "language_info": {
   "codemirror_mode": {
    "name": "ipython",
    "version": 2
   },
   "file_extension": ".py",
   "mimetype": "text/x-python",
   "name": "python",
   "nbconvert_exporter": "python",
   "pygments_lexer": "ipython2",
   "version": "2.7.6"
  }
 },
 "nbformat": 4,
 "nbformat_minor": 5
}
