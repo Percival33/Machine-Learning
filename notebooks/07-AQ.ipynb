{
 "cells": [
  {
   "cell_type": "code",
   "execution_count": 2,
   "id": "initial_id",
   "metadata": {
    "collapsed": true,
    "ExecuteTime": {
     "end_time": "2024-01-26T20:18:58.056216499Z",
     "start_time": "2024-01-26T20:15:24.118364494Z"
    }
   },
   "outputs": [
    {
     "name": "stderr",
     "output_type": "stream",
     "text": [
      "100%|██████████| 5/5 [03:33<00:00, 42.66s/it]\n"
     ]
    },
    {
     "name": "stdout",
     "output_type": "stream",
     "text": [
      "Accuracy: 0.9455\n",
      "Accuracy:               precision    recall  f1-score   support\n",
      "\n",
      "       False       0.96      0.98      0.97      1923\n",
      "        True       0.03      0.01      0.02        77\n",
      "\n",
      "    accuracy                           0.95      2000\n",
      "   macro avg       0.50      0.50      0.49      2000\n",
      "weighted avg       0.93      0.95      0.94      2000\n"
     ]
    }
   ],
   "source": [
    "import pandas as pd\n",
    "from sklearn.metrics import accuracy_score, classification_report\n",
    "from sklearn.model_selection import train_test_split\n",
    "from src.models.aq_algorithm import AQClassifier\n",
    "df = pd.read_csv(\"../data/processed/bank-full.csv\").head(10000)\n",
    "df['y'] = df['y'].map(lambda x: x == 'yes')\n",
    "X_train, X_test, y_train, y_test = train_test_split(df.drop(columns='y'), df['y'], test_size=0.2, random_state=21)\n",
    "clf = AQClassifier(**{\n",
    "    'star_it': 10,\n",
    "    'it': 5,\n",
    "    'max_cpx': 5,\n",
    "    'max_rules': 8,\n",
    "})\n",
    "results = clf.fit(X_train, y_train)\n",
    "clf.save(\"../models/aq_adult_test\")\n",
    "y_pred = clf.predict(X_test)\n",
    "print(f\"Accuracy: {accuracy_score(y_test, y_pred)}\")\n",
    "print(f\"Accuracy: {classification_report(y_test, y_pred)}\")"
   ]
  }
 ],
 "metadata": {
  "kernelspec": {
   "display_name": "Python 3",
   "language": "python",
   "name": "python3"
  },
  "language_info": {
   "codemirror_mode": {
    "name": "ipython",
    "version": 2
   },
   "file_extension": ".py",
   "mimetype": "text/x-python",
   "name": "python",
   "nbconvert_exporter": "python",
   "pygments_lexer": "ipython2",
   "version": "2.7.6"
  }
 },
 "nbformat": 4,
 "nbformat_minor": 5
}
