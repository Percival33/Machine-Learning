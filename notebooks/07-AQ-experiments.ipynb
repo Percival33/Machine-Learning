{
 "cells": [
  {
   "cell_type": "code",
   "execution_count": 2,
   "id": "initial_id",
   "metadata": {
    "collapsed": true,
    "ExecuteTime": {
     "end_time": "2024-01-26T17:12:26.477580856Z",
     "start_time": "2024-01-26T17:12:26.471173949Z"
    }
   },
   "outputs": [],
   "source": [
    "import pandas as pd\n",
    "from sklearn.metrics import accuracy_score, classification_report\n",
    "from sklearn.model_selection import train_test_split\n",
    "from src.models.aq_algorithm import AQClassifier\n",
    "\n",
    "df = pd.read_csv(\"../data/processed/adult.csv\").head(10000)\n",
    "df['y'] = df['y'].map(lambda x: x == ' <=50K')\n",
    "X_train, X_test, y_train, y_test = train_test_split(df.drop(columns='y'), df['y'], test_size=0.2, random_state=21)\n",
    "clf = AQClassifier.load(\"../models/aq_adult\", **{\n",
    "    'star_it': 10,\n",
    "    'it': 100,\n",
    "    'max_cpx': 10,\n",
    "    'max_rules': 10,\n",
    "})\n"
   ]
  }
 ],
 "metadata": {
  "kernelspec": {
   "display_name": "Python 3",
   "language": "python",
   "name": "python3"
  },
  "language_info": {
   "codemirror_mode": {
    "name": "ipython",
    "version": 2
   },
   "file_extension": ".py",
   "mimetype": "text/x-python",
   "name": "python",
   "nbconvert_exporter": "python",
   "pygments_lexer": "ipython2",
   "version": "2.7.6"
  }
 },
 "nbformat": 4,
 "nbformat_minor": 5
}
