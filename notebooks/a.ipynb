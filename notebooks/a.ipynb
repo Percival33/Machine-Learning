{
 "cells": [
  {
   "cell_type": "code",
   "execution_count": 3,
   "id": "initial_id",
   "metadata": {
    "collapsed": true,
    "ExecuteTime": {
     "end_time": "2024-01-26T20:19:57.689901312Z",
     "start_time": "2024-01-26T20:18:42.618777889Z"
    }
   },
   "outputs": [
    {
     "name": "stderr",
     "output_type": "stream",
     "text": [
      "100%|██████████| 5/5 [01:14<00:00, 14.94s/it]\n"
     ]
    },
    {
     "name": "stdout",
     "output_type": "stream",
     "text": [
      "Accuracy: 0.5015\n",
      "Accuracy:               precision    recall  f1-score   support\n",
      "\n",
      "       False       0.32      0.95      0.48       492\n",
      "        True       0.95      0.36      0.52      1508\n",
      "\n",
      "    accuracy                           0.50      2000\n",
      "   macro avg       0.64      0.65      0.50      2000\n",
      "weighted avg       0.80      0.50      0.51      2000\n"
     ]
    }
   ],
   "source": [
    "import pandas as pd\n",
    "from sklearn.metrics import accuracy_score, classification_report\n",
    "from sklearn.model_selection import train_test_split\n",
    "from src.models.aq_algorithm import AQClassifier\n",
    "df = pd.read_csv(\"../data/processed/adult.csv\").head(10000)\n",
    "df['y'] = df['y'].map(lambda x: x == ' <=50K')\n",
    "X_train, X_test, y_train, y_test = train_test_split(df.drop(columns='y'), df['y'], test_size=0.2, random_state=21)\n",
    "clf = AQClassifier(**{\n",
    "    'star_it': 10,\n",
    "    'it': 5,\n",
    "    'max_cpx': 10,\n",
    "    'max_rules': 8,\n",
    "})\n",
    "results = clf.fit(X_train, y_train)\n",
    "clf.save(\"../models/aq_adult_final\")\n",
    "y_pred = clf.predict(X_test)\n",
    "print(f\"Accuracy: {accuracy_score(y_test, y_pred)}\")\n",
    "print(f\"Accuracy: {classification_report(y_test, y_pred)}\")"
   ]
  }
 ],
 "metadata": {
  "kernelspec": {
   "display_name": "Python 3",
   "language": "python",
   "name": "python3"
  },
  "language_info": {
   "codemirror_mode": {
    "name": "ipython",
    "version": 2
   },
   "file_extension": ".py",
   "mimetype": "text/x-python",
   "name": "python",
   "nbconvert_exporter": "python",
   "pygments_lexer": "ipython2",
   "version": "2.7.6"
  }
 },
 "nbformat": 4,
 "nbformat_minor": 5
}
