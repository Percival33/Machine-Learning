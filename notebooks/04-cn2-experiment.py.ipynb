{
 "cells": [
  {
   "cell_type": "code",
   "execution_count": 2,
   "metadata": {
    "collapsed": true
   },
   "outputs": [],
   "source": [
    "import Orange\n",
    "from src.data.create_data import create_data"
   ]
  },
  {
   "cell_type": "code",
   "execution_count": 6,
   "outputs": [
    {
     "name": "stderr",
     "output_type": "stream",
     "text": [
      "/Users/marcinjarczewski/Documents/studia/sem5/machine_learning/src/data/create_data.py:10: OrangeDeprecationWarning: Direct calls to Table's constructor are deprecated and will be removed. Replace this call with Table.from_table\n",
      "  return Orange.data.Table(new_domain, data)\n"
     ]
    }
   ],
   "source": [
    "data = Orange.data.Table(\"../data/raw/bank+marketing/bank/bank-full.csv\")\n",
    "new_data = create_data(data)\n",
    "# print(new_data.domain.class_var)\n",
    "train_data, test_data = Orange.evaluation.testing.sample(new_data, n=0.8)"
   ],
   "metadata": {
    "collapsed": false
   }
  },
  {
   "cell_type": "code",
   "execution_count": 7,
   "outputs": [],
   "source": [
    "def evaluate():\n",
    "    correct = 0\n",
    "    for example in test_data:\n",
    "        if classifier(example) == example.get_class():\n",
    "            correct += 1\n",
    "\n",
    "    accuracy = correct / len(test_data)\n",
    "    print(f\"Accuracy: {accuracy:.2f}\")"
   ],
   "metadata": {
    "collapsed": false
   }
  },
  {
   "cell_type": "code",
   "execution_count": 8,
   "outputs": [],
   "source": [
    "learner = Orange.classification.CN2Learner()\n",
    "classifier = learner(train_data)"
   ],
   "metadata": {
    "collapsed": false
   }
  },
  {
   "cell_type": "code",
   "execution_count": 13,
   "outputs": [
    {
     "name": "stdout",
     "output_type": "stream",
     "text": [
      "Accuracy: 0.88\n"
     ]
    }
   ],
   "source": [
    "correct = 0\n",
    "for example in test_data:\n",
    "    if classifier(example) == example.get_class():\n",
    "        correct += 1\n",
    "\n",
    "accuracy = correct / len(test_data)\n",
    "print(f\"Accuracy: {accuracy:.2f}\")"
   ],
   "metadata": {
    "collapsed": false
   }
  },
  {
   "cell_type": "code",
   "execution_count": 14,
   "outputs": [],
   "source": [
    "learners = [Orange.classification.CN2Learner()]\n",
    "results = Orange.evaluation.testing.TestOnTestData(train_data, test_data, learners)"
   ],
   "metadata": {
    "collapsed": false
   }
  },
  {
   "cell_type": "code",
   "execution_count": 31,
   "outputs": [
    {
     "name": "stdout",
     "output_type": "stream",
     "text": [
      "train imte:\t[629.15693092]\n",
      "test_time:\t[0.10304117]\n",
      "accuracy:\t[0.87780604]\n",
      "recall:\t[0.45821596]\n",
      "F1:\t[0.46900529]\n"
     ]
    }
   ],
   "source": [
    "print(f\"train imte:\\t{results.train_time}\\ntest_time:\\t{results.test_time}\\naccuracy:\\t{Orange.evaluation.CA(results)}\\nrecall:\\t{Orange.evaluation.Recall(results)}\\nF1:\\t{Orange.evaluation.F1(results)}\")"
   ],
   "metadata": {
    "collapsed": false
   }
  },
  {
   "cell_type": "code",
   "execution_count": 4,
   "outputs": [],
   "source": [
    "adult_data = Orange.data.Table(\"../data/raw/bank+marketing/bank/bank-full.csv\")\n",
    "adult_data = create_data(adult_data)\n",
    "# print(new_data.domain.class_var)\n",
    "a_train_data, a_test_data = Orange.evaluation.testing.sample(adult_data, n=0.8)\n",
    "learners = [Orange.classification.CN2Learner()]\n",
    "results = Orange.evaluation.testing.TestOnTestData(a_train_data, a_test_data, learners)"
   ],
   "metadata": {
    "collapsed": false
   }
  },
  {
   "cell_type": "code",
   "execution_count": 5,
   "outputs": [
    {
     "name": "stdout",
     "output_type": "stream",
     "text": [
      "train imte:\t[593.6949718]\n",
      "test_time:\t[0.09582424]\n",
      "accuracy:\t[0.87946478]\n",
      "recall:\t[0.43656344]\n",
      "F1:\t[0.44501018]\n"
     ]
    }
   ],
   "source": [
    "print(\n",
    "        f\"train imte:\\t{results.train_time}\\ntest_time:\\t{results.test_time}\\naccuracy:\\t{Orange.evaluation.CA(results)}\\nrecall:\\t{Orange.evaluation.Recall(results)}\\nF1:\\t{Orange.evaluation.F1(results)}\"\n",
    "    )"
   ],
   "metadata": {
    "collapsed": false
   }
  }
 ],
 "metadata": {
  "kernelspec": {
   "display_name": "Python 3",
   "language": "python",
   "name": "python3"
  },
  "language_info": {
   "codemirror_mode": {
    "name": "ipython",
    "version": 2
   },
   "file_extension": ".py",
   "mimetype": "text/x-python",
   "name": "python",
   "nbconvert_exporter": "python",
   "pygments_lexer": "ipython2",
   "version": "2.7.6"
  }
 },
 "nbformat": 4,
 "nbformat_minor": 0
}
